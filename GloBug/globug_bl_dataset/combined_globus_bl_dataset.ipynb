{
 "cells": [
  {
   "cell_type": "code",
   "execution_count": 1,
   "id": "87e5544a-5794-407d-9ddc-e74bdd23baa8",
   "metadata": {},
   "outputs": [],
   "source": [
    "import pandas as pd\n",
    "import numpy as np\n",
    "import os\n",
    "from pathlib import Path"
   ]
  },
  {
   "cell_type": "code",
   "execution_count": 2,
   "id": "5014ab6f-86f5-46d8-b2fb-74c686dfd885",
   "metadata": {},
   "outputs": [],
   "source": [
    "def get_combined_full_dataset(project_name, train_percentage=0.2):\n",
    "    test_percentage = 1 - train_percentage\n",
    "    df1 = pd.read_csv(\"{}.csv\".format(project_name), delimiter='\\t')\n",
    "    df2 = pd.read_csv(\"{}_features.csv\".format(project_name))\n",
    "    df3 = pd.read_csv(\"{}_features_file_content.csv\".format(project_name))\n",
    "    return df1, df2, df3"
   ]
  },
  {
   "cell_type": "code",
   "execution_count": 3,
   "id": "f6600794-8bcb-45e9-89f2-c17537392e17",
   "metadata": {},
   "outputs": [],
   "source": [
    "project_mapping = {}"
   ]
  },
  {
   "cell_type": "code",
   "execution_count": 4,
   "id": "84ac9014-24d1-4adf-bc1d-fe81f37faf93",
   "metadata": {},
   "outputs": [],
   "source": [
    "projects = ['AspectJ', 'Eclipse_Platform_UI', 'JDT', 'SWT', 'Birt', 'Tomcat']"
   ]
  },
  {
   "cell_type": "code",
   "execution_count": 18,
   "id": "1c05daf2-a86d-4703-af42-1872892ab80a",
   "metadata": {
    "scrolled": true,
    "tags": []
   },
   "outputs": [
    {
     "name": "stdout",
     "output_type": "stream",
     "text": [
      "Bug Report null cols id                  False\n",
      "bug_id              False\n",
      "summary             False\n",
      "description          True\n",
      "report_time         False\n",
      "report_timestamp    False\n",
      "status              False\n",
      "commit              False\n",
      "commit_timestamp    False\n",
      "files               False\n",
      "Unnamed: 10          True\n",
      "dtype: bool for AspectJ\n",
      "Features null cols cid                     False\n",
      "bug_recency             False\n",
      "report_id               False\n",
      "rVSM_similarity         False\n",
      "bug_frequency           False\n",
      "classname_similarity    False\n",
      "file                    False\n",
      "match                   False\n",
      "collab_filter           False\n",
      "dtype: bool for AspectJ\n",
      "SC content null cols cid             False\n",
      "file_content    False\n",
      "dtype: bool for AspectJ\n",
      "Bug Report null cols Unnamed: 0          False\n",
      "id                  False\n",
      "bug_id              False\n",
      "summary             False\n",
      "description          True\n",
      "report_time         False\n",
      "report_timestamp    False\n",
      "status              False\n",
      "commit              False\n",
      "commit_timestamp    False\n",
      "files               False\n",
      "Unnamed: 10          True\n",
      "dtype: bool for Eclipse_Platform_UI\n",
      "Features null cols cid                     False\n",
      "rVSM_similarity         False\n",
      "bug_recency             False\n",
      "classname_similarity    False\n",
      "collab_filter           False\n",
      "match                   False\n",
      "file                    False\n",
      "bug_frequency           False\n",
      "report_id               False\n",
      "dtype: bool for Eclipse_Platform_UI\n",
      "SC content null cols cid             False\n",
      "file_content    False\n",
      "dtype: bool for Eclipse_Platform_UI\n",
      "Bug Report null cols id                  False\n",
      "bug_id              False\n",
      "summary             False\n",
      "description          True\n",
      "report_time         False\n",
      "report_timestamp    False\n",
      "status              False\n",
      "commit              False\n",
      "commit_timestamp    False\n",
      "files               False\n",
      "Unnamed: 10          True\n",
      "dtype: bool for JDT\n",
      "Features null cols cid                     False\n",
      "rVSM_similarity         False\n",
      "collab_filter           False\n",
      "bug_recency             False\n",
      "report_id               False\n",
      "file                    False\n",
      "match                   False\n",
      "classname_similarity    False\n",
      "bug_frequency           False\n",
      "dtype: bool for JDT\n",
      "SC content null cols cid             False\n",
      "file_content    False\n",
      "dtype: bool for JDT\n",
      "Bug Report null cols Unnamed: 0          False\n",
      "Unnamed: 0.1        False\n",
      "id                  False\n",
      "bug_id              False\n",
      "summary             False\n",
      "description          True\n",
      "report_time         False\n",
      "report_timestamp    False\n",
      "status              False\n",
      "commit              False\n",
      "commit_timestamp    False\n",
      "files               False\n",
      "Unnamed: 10          True\n",
      "dtype: bool for SWT\n",
      "Features null cols Unnamed: 0              False\n",
      "Unnamed: 0.1            False\n",
      "cid                     False\n",
      "bug_frequency           False\n",
      "file                    False\n",
      "report_id               False\n",
      "bug_recency             False\n",
      "classname_similarity    False\n",
      "match                   False\n",
      "rVSM_similarity         False\n",
      "collab_filter           False\n",
      "dtype: bool for SWT\n",
      "SC content null cols cid             False\n",
      "file_content    False\n",
      "dtype: bool for SWT\n",
      "Bug Report null cols Unnamed: 0          False\n",
      "id                  False\n",
      "bug_id              False\n",
      "summary             False\n",
      "description          True\n",
      "report_time         False\n",
      "report_timestamp    False\n",
      "status              False\n",
      "commit              False\n",
      "commit_timestamp    False\n",
      "files               False\n",
      "Unnamed: 10          True\n",
      "dtype: bool for Birt\n",
      "Features null cols cid                     False\n",
      "bug_recency             False\n",
      "match                   False\n",
      "rVSM_similarity         False\n",
      "report_id               False\n",
      "classname_similarity    False\n",
      "bug_frequency           False\n",
      "collab_filter           False\n",
      "file                    False\n",
      "dtype: bool for Birt\n",
      "SC content null cols cid             False\n",
      "file_content    False\n",
      "dtype: bool for Birt\n",
      "Bug Report null cols id                  False\n",
      "bug_id              False\n",
      "summary             False\n",
      "description          True\n",
      "report_time         False\n",
      "report_timestamp    False\n",
      "status              False\n",
      "commit              False\n",
      "commit_timestamp    False\n",
      "files               False\n",
      "Unnamed: 10          True\n",
      "dtype: bool for Tomcat\n",
      "Features null cols cid                     False\n",
      "collab_filter           False\n",
      "bug_frequency           False\n",
      "report_id               False\n",
      "classname_similarity    False\n",
      "match                   False\n",
      "rVSM_similarity         False\n",
      "file                    False\n",
      "bug_recency             False\n",
      "dtype: bool for Tomcat\n",
      "SC content null cols cid             False\n",
      "file_content    False\n",
      "dtype: bool for Tomcat\n"
     ]
    }
   ],
   "source": [
    "for project in projects:\n",
    "    br_df, features_df, content_df = get_combined_full_dataset(f\"/home/varumuga/scratch/Thesis/bench_bl_dataset/Dataset/{project}\")\n",
    "    print(f\"Bug Report null cols {br_df.isna().any()} for {project}\")\n",
    "    print(f\"Features null cols {features_df.isna().any()} for {project}\")\n",
    "    print(f\"SC content null cols {content_df.isna().any()} for {project}\")\n",
    "    content_df[\"project_name\"] = project\n",
    "    br_df[\"project_name\"] = project\n",
    "    features_df[\"project_name\"] = project\n",
    "    # br_features_combined = pd.merge(br_df, features_df, left_on='id', right_on='report_id', how='inner')\n",
    "    # br_features_combined[\"report_time\"] = pd.to_datetime(br_features_combined['report_time'])\n",
    "    # br_features_combined = br_features_combined.sort_values('report_time')\n",
    "    br_df = br_df.fillna(\"\")\n",
    "    br_df[\"report\"] = br_df['summary'] + br_df['description']\n",
    "    project_mapping[project] = {\n",
    "        \"br\": br_df,\n",
    "        \"features\": features_df,\n",
    "        \"sc_content\": content_df,\n",
    "        # \"br_features\": br_features_combined\n",
    "    }"
   ]
  },
  {
   "cell_type": "code",
   "execution_count": 19,
   "id": "c59bac13-3d22-4758-b2db-f395b37bdf63",
   "metadata": {},
   "outputs": [],
   "source": [
    "all_br = []\n",
    "all_sc_contents = []\n",
    "for project in projects:\n",
    "    all_br.append(project_mapping[project][\"br\"])\n",
    "    all_sc_contents.append(project_mapping[project][\"sc_content\"])"
   ]
  },
  {
   "cell_type": "code",
   "execution_count": 20,
   "id": "b68e2c43-d8f3-4f8f-83f5-520b905e3cbc",
   "metadata": {},
   "outputs": [],
   "source": [
    "all_br_df = pd.concat(all_br)"
   ]
  },
  {
   "cell_type": "code",
   "execution_count": 21,
   "id": "d4d4b025-a3e5-42d3-a16f-c53b1f771d02",
   "metadata": {},
   "outputs": [
    {
     "data": {
      "text/plain": [
       "(22747, 15)"
      ]
     },
     "execution_count": 21,
     "metadata": {},
     "output_type": "execute_result"
    }
   ],
   "source": [
    "all_br_df.shape"
   ]
  },
  {
   "cell_type": "code",
   "execution_count": 10,
   "id": "c9395f5b-50d4-43b1-ad48-66a15a8191aa",
   "metadata": {},
   "outputs": [],
   "source": [
    "all_sc_contents_df = pd.concat(all_sc_contents)"
   ]
  },
  {
   "cell_type": "code",
   "execution_count": 22,
   "id": "5c9ad20f-e255-463d-afbc-70ff9604eb2f",
   "metadata": {},
   "outputs": [],
   "source": [
    "all_br_df.to_csv(\"combined_dataset/allBugReports.csv\", sep='\\t')"
   ]
  },
  {
   "cell_type": "code",
   "execution_count": 17,
   "id": "f6527c35-7cec-45bb-8b1a-0eda7dea208e",
   "metadata": {},
   "outputs": [
    {
     "data": {
      "text/html": [
       "<div>\n",
       "<style scoped>\n",
       "    .dataframe tbody tr th:only-of-type {\n",
       "        vertical-align: middle;\n",
       "    }\n",
       "\n",
       "    .dataframe tbody tr th {\n",
       "        vertical-align: top;\n",
       "    }\n",
       "\n",
       "    .dataframe thead th {\n",
       "        text-align: right;\n",
       "    }\n",
       "</style>\n",
       "<table border=\"1\" class=\"dataframe\">\n",
       "  <thead>\n",
       "    <tr style=\"text-align: right;\">\n",
       "      <th></th>\n",
       "      <th>id</th>\n",
       "      <th>bug_id</th>\n",
       "      <th>summary</th>\n",
       "      <th>description</th>\n",
       "      <th>report_time</th>\n",
       "      <th>report_timestamp</th>\n",
       "      <th>status</th>\n",
       "      <th>commit</th>\n",
       "      <th>commit_timestamp</th>\n",
       "      <th>files</th>\n",
       "      <th>Unnamed: 10</th>\n",
       "      <th>project_name</th>\n",
       "      <th>Unnamed: 0</th>\n",
       "      <th>Unnamed: 0.1</th>\n",
       "    </tr>\n",
       "  </thead>\n",
       "  <tbody>\n",
       "    <tr>\n",
       "      <th>185</th>\n",
       "      <td>186</td>\n",
       "      <td>152388</td>\n",
       "      <td>Bug 152388 NPE in MessageUtil.addExtraSourceLo...</td>\n",
       "      <td>I get this message from an error in a recent d...</td>\n",
       "      <td>2006-07-31 18:31:46</td>\n",
       "      <td>1154390000</td>\n",
       "      <td>resolved fixed</td>\n",
       "      <td>a38edd3</td>\n",
       "      <td>1155040000</td>\n",
       "      <td>bridge/src/org/aspectj/bridge/MessageUtil.java</td>\n",
       "      <td>5:bridge/src/org/aspectj/bridge/MessageUtil.java</td>\n",
       "      <td>AspectJ</td>\n",
       "      <td>NaN</td>\n",
       "      <td>NaN</td>\n",
       "    </tr>\n",
       "  </tbody>\n",
       "</table>\n",
       "</div>"
      ],
      "text/plain": [
       "      id  bug_id                                            summary  \\\n",
       "185  186  152388  Bug 152388 NPE in MessageUtil.addExtraSourceLo...   \n",
       "\n",
       "                                           description          report_time  \\\n",
       "185  I get this message from an error in a recent d...  2006-07-31 18:31:46   \n",
       "\n",
       "     report_timestamp          status   commit  commit_timestamp  \\\n",
       "185        1154390000  resolved fixed  a38edd3        1155040000   \n",
       "\n",
       "                                              files  \\\n",
       "185  bridge/src/org/aspectj/bridge/MessageUtil.java   \n",
       "\n",
       "                                          Unnamed: 10 project_name  \\\n",
       "185  5:bridge/src/org/aspectj/bridge/MessageUtil.java      AspectJ   \n",
       "\n",
       "     Unnamed: 0  Unnamed: 0.1  \n",
       "185         NaN           NaN  "
      ]
     },
     "execution_count": 17,
     "metadata": {},
     "output_type": "execute_result"
    }
   ],
   "source": [
    "all_br_df[all_br_df.bug_id == 152388]"
   ]
  },
  {
   "cell_type": "code",
   "execution_count": 14,
   "id": "785f5f2c-d784-4151-b474-3078b5d6d9dd",
   "metadata": {},
   "outputs": [],
   "source": [
    "all_sc_contents_df.to_csv('combined_dataset/allSourceCodes.csv')"
   ]
  },
  {
   "cell_type": "code",
   "execution_count": 16,
   "id": "701d20cb-d5cd-495b-ba67-ce403100887f",
   "metadata": {},
   "outputs": [
    {
     "data": {
      "text/plain": [
       "id                  False\n",
       "bug_id              False\n",
       "summary             False\n",
       "description         False\n",
       "report_time         False\n",
       "report_timestamp    False\n",
       "status              False\n",
       "commit              False\n",
       "commit_timestamp    False\n",
       "files               False\n",
       "Unnamed: 10         False\n",
       "project_name        False\n",
       "Unnamed: 0           True\n",
       "Unnamed: 0.1         True\n",
       "dtype: bool"
      ]
     },
     "execution_count": 16,
     "metadata": {},
     "output_type": "execute_result"
    }
   ],
   "source": [
    "all_br_df.isna().any()"
   ]
  },
  {
   "cell_type": "code",
   "execution_count": null,
   "id": "92a1469a-b692-411c-8734-598ff0868c99",
   "metadata": {},
   "outputs": [],
   "source": []
  }
 ],
 "metadata": {
  "kernelspec": {
   "display_name": "Python 3",
   "language": "python",
   "name": "python3"
  },
  "language_info": {
   "codemirror_mode": {
    "name": "ipython",
    "version": 3
   },
   "file_extension": ".py",
   "mimetype": "text/x-python",
   "name": "python",
   "nbconvert_exporter": "python",
   "pygments_lexer": "ipython3",
   "version": "3.7.9"
  }
 },
 "nbformat": 4,
 "nbformat_minor": 5
}
